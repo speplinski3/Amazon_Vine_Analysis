{
  "nbformat": 4,
  "nbformat_minor": 0,
  "metadata": {
    "colab": {
      "provenance": [],
      "collapsed_sections": []
    },
    "kernelspec": {
      "name": "python3",
      "display_name": "Python 3"
    },
    "language_info": {
      "name": "python"
    }
  },
  "cells": [
    {
      "cell_type": "code",
      "execution_count": 1,
      "metadata": {
        "colab": {
          "base_uri": "https://localhost:8080/"
        },
        "id": "X5xPDuT3bVmY",
        "outputId": "3f026d9f-2875-44af-e6e9-13cf8207f284"
      },
      "outputs": [
        {
          "output_type": "stream",
          "name": "stdout",
          "text": [
            "Hit:1 https://cloud.r-project.org/bin/linux/ubuntu bionic-cran40/ InRelease\n",
            "Ign:2 https://developer.download.nvidia.com/compute/machine-learning/repos/ubuntu1804/x86_64  InRelease\n",
            "Hit:3 https://developer.download.nvidia.com/compute/cuda/repos/ubuntu1804/x86_64  InRelease\n",
            "Hit:4 https://developer.download.nvidia.com/compute/machine-learning/repos/ubuntu1804/x86_64  Release\n",
            "Hit:5 http://security.ubuntu.com/ubuntu bionic-security InRelease\n",
            "Hit:6 http://ppa.launchpad.net/c2d4u.team/c2d4u4.0+/ubuntu bionic InRelease\n",
            "Hit:7 http://archive.ubuntu.com/ubuntu bionic InRelease\n",
            "Hit:8 http://archive.ubuntu.com/ubuntu bionic-updates InRelease\n",
            "Hit:9 http://ppa.launchpad.net/cran/libgit2/ubuntu bionic InRelease\n",
            "Hit:10 http://archive.ubuntu.com/ubuntu bionic-backports InRelease\n",
            "Hit:11 http://ppa.launchpad.net/deadsnakes/ppa/ubuntu bionic InRelease\n",
            "Hit:13 http://ppa.launchpad.net/graphics-drivers/ppa/ubuntu bionic InRelease\n",
            "Reading package lists... Done\n"
          ]
        }
      ],
      "source": [
        "import os\n",
        "# Find the latest version of spark 3.0 from http://www.apache.org/dist/spark/ and enter as the spark version\n",
        "# For example:\n",
        "# spark_version = 'spark-3.0.3'\n",
        "spark_version = 'spark-3.2.2'\n",
        "os.environ['SPARK_VERSION']=spark_version\n",
        "\n",
        "# Install Spark and Java\n",
        "!apt-get update\n",
        "!apt-get install openjdk-11-jdk-headless -qq > /dev/null\n",
        "!wget -q http://www.apache.org/dist/spark/$SPARK_VERSION/$SPARK_VERSION-bin-hadoop2.7.tgz\n",
        "!tar xf $SPARK_VERSION-bin-hadoop2.7.tgz\n",
        "!pip install -q findspark\n",
        "\n",
        "# Set Environment Variables\n",
        "import os\n",
        "os.environ[\"JAVA_HOME\"] = \"/usr/lib/jvm/java-11-openjdk-amd64\"\n",
        "os.environ[\"SPARK_HOME\"] = f\"/content/{spark_version}-bin-hadoop2.7\"\n",
        "\n",
        "# Start a SparkSession\n",
        "import findspark\n",
        "findspark.init()"
      ]
    },
    {
      "cell_type": "code",
      "source": [
        "from pyspark.sql import SparkSession\n",
        "spark = SparkSession.builder.appName(\"challenge\").config(\"spark.driver.extraClassPath\",\"/content/postgresql-42.2.16.jar\").getOrCreate()"
      ],
      "metadata": {
        "id": "mekRtlDpcaUh"
      },
      "execution_count": 2,
      "outputs": []
    },
    {
      "cell_type": "code",
      "source": [
        "from pyspark import SparkFiles\n",
        "url = \"https://s3.amazonaws.com/amazon-reviews-pds/tsv/amazon_reviews_us_Apparel_v1_00.tsv.gz\"\n",
        "spark.sparkContext.addFile(url)\n",
        "df = spark.read.option(\"encoding\", \"UTF-8\").csv(SparkFiles.get(\"\"), sep=\"\\t\", header=True, inferSchema=True)\n",
        "df.show()"
      ],
      "metadata": {
        "colab": {
          "base_uri": "https://localhost:8080/"
        },
        "id": "QdVlzbb7cjuP",
        "outputId": "687f0894-040f-4c76-fb42-0ada447d0d76"
      },
      "execution_count": 3,
      "outputs": [
        {
          "output_type": "stream",
          "name": "stdout",
          "text": [
            "+-----------+-----------+--------------+----------+--------------+--------------------+----------------+-----------+-------------+-----------+----+-----------------+--------------------+--------------------+-----------+\n",
            "|marketplace|customer_id|     review_id|product_id|product_parent|       product_title|product_category|star_rating|helpful_votes|total_votes|vine|verified_purchase|     review_headline|         review_body|review_date|\n",
            "+-----------+-----------+--------------+----------+--------------+--------------------+----------------+-----------+-------------+-----------+----+-----------------+--------------------+--------------------+-----------+\n",
            "|         US|   32158956|R1KKOXHNI8MSXU|B01KL6O72Y|      24485154|Easy Tool Stainle...|         Apparel|          4|            0|          0|   N|                Y|★ THESE REALLY DO...|These Really Do W...| 2013-01-14|\n",
            "|         US|    2714559|R26SP2OPDK4HT7|B01ID3ZS5W|     363128556|V28 Women Cowl Ne...|         Apparel|          5|            1|          2|   N|                Y|Favorite for wint...|I love this dress...| 2014-03-04|\n",
            "|         US|   12608825| RWQEDYAX373I1|B01I497BGY|     811958549|James Fiallo Men'...|         Apparel|          5|            0|          0|   N|                Y|Great Socks for t...|Nice socks, great...| 2015-07-12|\n",
            "|         US|   25482800|R231YI7R4GPF6J|B01HDXFZK6|     692205728|Belfry Gangster 1...|         Apparel|          5|            0|          0|   N|                Y|          Slick hat!|I bought this for...| 2015-06-03|\n",
            "|         US|    9310286|R3KO3W45DD0L1K|B01G6MBEBY|     431150422|JAEDEN Women's Be...|         Apparel|          5|            0|          0|   N|                Y|I would do it again!|Perfect dress and...| 2015-06-12|\n",
            "|         US|   26631939|R1C4QH63NFL5NJ|B01FWRXN0Y|     366144407|Levi's Boys' 514 ...|         Apparel|          5|            0|          0|   N|                Y|          Five Stars|Excellent for my ...| 2014-04-22|\n",
            "|         US|   48785098|R2GP65O1U9N7BP|B01EXNH1HE|     786052021|Minimalist Wallet...|         Apparel|          5|            0|          0|   N|                Y|            Love it!|Raw is the only w...| 2015-07-28|\n",
            "|         US|   39548589|R3O29CT5MQQ3XQ|B01E7OL09O|     108920964|Harriton Men's Ba...|         Apparel|          4|            0|          0|   N|                Y|         Three Stars|        A bit large.| 2015-07-10|\n",
            "|         US|   29355866|R1ZECD2AA8QFF6|B01DXHX81O|     317132458|Jockey Women's Un...|         Apparel|          5|            0|          0|   N|                Y|          Five Stars|          Great fit!| 2015-08-09|\n",
            "|         US|   27477484|R2S79GCF6J89OA|B01DDULIJK|     110598191|Alexander Del Ros...|         Apparel|          3|            0|          0|   N|                Y|    Not my favorite.|Shirt a bit too l...| 2014-05-24|\n",
            "|         US|   17685865|R1CBCUGNP37MPK|B01BOKOL4A|     121408017|Jockey Women's Un...|         Apparel|          5|            0|          0|   N|                Y|The Jockey Women'...|The Jockey Women'...| 2015-06-10|\n",
            "|         US|   19787539|R3NU4WUR5ZNV1V|B01B3Q4Q0O|     134506082|Bali Passion For ...|         Apparel|          5|            0|          0|   N|                Y|          Five Stars|cup size is just ...| 2013-09-06|\n",
            "|         US|   44196725|R32EPCJ3XF8LGE|B01ADDSL9U|     747539045|Lilyette Women's ...|         Apparel|          5|            0|          0|   N|                Y|          Five Stars|          Perfect...| 2014-11-17|\n",
            "|         US|   45510794|R1XIBC6WQBW31M|B019P1X5XI|     696379847|Vanity Fair Women...|         Apparel|          5|            0|          0|   N|                Y|best ever4 for me...|best  ever4 for m...| 2013-05-12|\n",
            "|         US|   42025740|R1P11MVDZ65LMH|B019MDXIXG|     387286513|Warner's Women's ...|         Apparel|          5|            0|          0|   N|                Y|          Five Stars|          Great fit.| 2014-02-14|\n",
            "|         US|   27097189|R1OJA3DJL0VDDK|B019438FEG|     764190574|Columbia Women's ...|         Apparel|          5|            0|          0|   N|                Y|          Five Stars|I have this Colum...| 2014-10-20|\n",
            "|         US|   13808904|R1THWA5YRJLOOF|B0178HGNIA|     816266887|Robes King RK Cla...|         Apparel|          4|            0|          0|   N|                Y|          Four Stars|My husband found ...| 2015-07-05|\n",
            "|         US|   30225894| R738LCNRSJVXP|B016VIU0QI|     323924698|VIV Collection Be...|         Apparel|          5|            6|          7|   N|                Y|   Awesome leggings!|Awesome leggings!...| 2015-07-29|\n",
            "|         US|   45223824|R1N3Z13931J3O9|B016PUU3VO|     893588059|Fruit of the Loom...|         Apparel|          2|            0|          0|   N|                Y|Sizes not correct...|I ordered the sam...| 2015-01-01|\n",
            "|         US|   22300783|R1LBNTP7E8N89Z|B016AQNDM4|     917361125|Jockey Scrubs Wom...|         Apparel|          1|            0|          0|   N|                Y|            One Star| not exact in sizing| 2015-02-12|\n",
            "+-----------+-----------+--------------+----------+--------------+--------------------+----------------+-----------+-------------+-----------+----+-----------------+--------------------+--------------------+-----------+\n",
            "only showing top 20 rows\n",
            "\n"
          ]
        }
      ]
    },
    {
      "cell_type": "code",
      "source": [
        "df.columns"
      ],
      "metadata": {
        "colab": {
          "base_uri": "https://localhost:8080/"
        },
        "id": "zKTFr3hWrj38",
        "outputId": "1ab92f31-e995-4add-b37a-f29b11ce400f"
      },
      "execution_count": 16,
      "outputs": [
        {
          "output_type": "execute_result",
          "data": {
            "text/plain": [
              "['marketplace',\n",
              " 'customer_id',\n",
              " 'review_id',\n",
              " 'product_id',\n",
              " 'product_parent',\n",
              " 'product_title',\n",
              " 'product_category',\n",
              " 'star_rating',\n",
              " 'helpful_votes',\n",
              " 'total_votes',\n",
              " 'vine',\n",
              " 'verified_purchase',\n",
              " 'review_headline',\n",
              " 'review_body',\n",
              " 'review_date']"
            ]
          },
          "metadata": {},
          "execution_count": 16
        }
      ]
    },
    {
      "cell_type": "code",
      "source": [
        "test_product_type_df = df.select([\"product_category\"])\n",
        "test_product_type_df.show()"
      ],
      "metadata": {
        "colab": {
          "base_uri": "https://localhost:8080/"
        },
        "id": "Hoi0Te14sNjt",
        "outputId": "7d99a7d2-40f7-4c2b-818a-10af73a53394"
      },
      "execution_count": 17,
      "outputs": [
        {
          "output_type": "stream",
          "name": "stdout",
          "text": [
            "+----------------+\n",
            "|product_category|\n",
            "+----------------+\n",
            "|         Apparel|\n",
            "|         Apparel|\n",
            "|         Apparel|\n",
            "|         Apparel|\n",
            "|         Apparel|\n",
            "|         Apparel|\n",
            "|         Apparel|\n",
            "|         Apparel|\n",
            "|         Apparel|\n",
            "|         Apparel|\n",
            "|         Apparel|\n",
            "|         Apparel|\n",
            "|         Apparel|\n",
            "|         Apparel|\n",
            "|         Apparel|\n",
            "|         Apparel|\n",
            "|         Apparel|\n",
            "|         Apparel|\n",
            "|         Apparel|\n",
            "|         Apparel|\n",
            "+----------------+\n",
            "only showing top 20 rows\n",
            "\n"
          ]
        }
      ]
    },
    {
      "cell_type": "code",
      "source": [
        "from pyspark.sql.functions import to_date\n",
        "vine_df = df.select([\"review_id\",\"star_rating\",\"product_category\",\"helpful_votes\",\"total_votes\",\"vine\",\"verified_purchase\"])\n",
        "vine_df.show()"
      ],
      "metadata": {
        "colab": {
          "base_uri": "https://localhost:8080/"
        },
        "id": "PMeaFSXrdumi",
        "outputId": "3e8627e5-a7d4-4946-bc3a-0c944c58d79a"
      },
      "execution_count": 18,
      "outputs": [
        {
          "output_type": "stream",
          "name": "stdout",
          "text": [
            "+--------------+-----------+----------------+-------------+-----------+----+-----------------+\n",
            "|     review_id|star_rating|product_category|helpful_votes|total_votes|vine|verified_purchase|\n",
            "+--------------+-----------+----------------+-------------+-----------+----+-----------------+\n",
            "|R1KKOXHNI8MSXU|          4|         Apparel|            0|          0|   N|                Y|\n",
            "|R26SP2OPDK4HT7|          5|         Apparel|            1|          2|   N|                Y|\n",
            "| RWQEDYAX373I1|          5|         Apparel|            0|          0|   N|                Y|\n",
            "|R231YI7R4GPF6J|          5|         Apparel|            0|          0|   N|                Y|\n",
            "|R3KO3W45DD0L1K|          5|         Apparel|            0|          0|   N|                Y|\n",
            "|R1C4QH63NFL5NJ|          5|         Apparel|            0|          0|   N|                Y|\n",
            "|R2GP65O1U9N7BP|          5|         Apparel|            0|          0|   N|                Y|\n",
            "|R3O29CT5MQQ3XQ|          4|         Apparel|            0|          0|   N|                Y|\n",
            "|R1ZECD2AA8QFF6|          5|         Apparel|            0|          0|   N|                Y|\n",
            "|R2S79GCF6J89OA|          3|         Apparel|            0|          0|   N|                Y|\n",
            "|R1CBCUGNP37MPK|          5|         Apparel|            0|          0|   N|                Y|\n",
            "|R3NU4WUR5ZNV1V|          5|         Apparel|            0|          0|   N|                Y|\n",
            "|R32EPCJ3XF8LGE|          5|         Apparel|            0|          0|   N|                Y|\n",
            "|R1XIBC6WQBW31M|          5|         Apparel|            0|          0|   N|                Y|\n",
            "|R1P11MVDZ65LMH|          5|         Apparel|            0|          0|   N|                Y|\n",
            "|R1OJA3DJL0VDDK|          5|         Apparel|            0|          0|   N|                Y|\n",
            "|R1THWA5YRJLOOF|          4|         Apparel|            0|          0|   N|                Y|\n",
            "| R738LCNRSJVXP|          5|         Apparel|            6|          7|   N|                Y|\n",
            "|R1N3Z13931J3O9|          2|         Apparel|            0|          0|   N|                Y|\n",
            "|R1LBNTP7E8N89Z|          1|         Apparel|            0|          0|   N|                Y|\n",
            "+--------------+-----------+----------------+-------------+-----------+----+-----------------+\n",
            "only showing top 20 rows\n",
            "\n"
          ]
        }
      ]
    },
    {
      "cell_type": "code",
      "source": [
        "# Filtered for more than 20 total votes\n",
        "vine_filtered_votes_df = vine_df.filter(\"total_votes>=20\")\n",
        "vine_filtered_votes_df.show()"
      ],
      "metadata": {
        "colab": {
          "base_uri": "https://localhost:8080/"
        },
        "id": "GXrMyR2Md7GH",
        "outputId": "99a3cc50-7281-43f2-ead8-e19334bb15bd"
      },
      "execution_count": 19,
      "outputs": [
        {
          "output_type": "stream",
          "name": "stdout",
          "text": [
            "+--------------+-----------+----------------+-------------+-----------+----+-----------------+\n",
            "|     review_id|star_rating|product_category|helpful_votes|total_votes|vine|verified_purchase|\n",
            "+--------------+-----------+----------------+-------------+-----------+----+-----------------+\n",
            "|R35PT06NWP7LDP|          5|         Apparel|           30|         32|   N|                N|\n",
            "|R2P76PJFUGXBHO|          1|         Apparel|            6|         45|   N|                N|\n",
            "| RQW4AFOG9MR4Z|          5|         Apparel|           51|         52|   N|                N|\n",
            "|R2SMUEBMGLAJQK|          5|         Apparel|           29|         36|   N|                Y|\n",
            "|R1XVIZZALU5P6J|          5|         Apparel|          148|        150|   N|                Y|\n",
            "|R11UFMG8M2488I|          4|         Apparel|           23|         26|   N|                N|\n",
            "|R2OSHKSPXU68W5|          5|         Apparel|          136|        147|   N|                N|\n",
            "|R3M02FSD3BLUPU|          5|         Apparel|           19|         21|   N|                N|\n",
            "|R1P0LEEJHH09L3|          5|         Apparel|           32|         32|   N|                Y|\n",
            "|R1V6UU1EHW3Q12|          5|         Apparel|           57|         62|   N|                Y|\n",
            "|R230W87COFSTCL|          5|         Apparel|           21|         21|   N|                Y|\n",
            "|R156HBTMUSEM88|          5|         Apparel|           48|         49|   N|                Y|\n",
            "|R2X1UHSW9KUBES|          5|         Apparel|           22|         22|   N|                Y|\n",
            "| RO32P11MHPMI3|          5|         Apparel|           24|         24|   N|                Y|\n",
            "|R2WN1VOTG9IK98|          1|         Apparel|            0|         22|   N|                Y|\n",
            "|R1Y8ARYNAB7PC0|          5|         Apparel|           19|         20|   N|                N|\n",
            "|R1QSB09EOREALQ|          4|         Apparel|           29|         32|   N|                Y|\n",
            "|R1BQ8BDCIV9ONZ|          5|         Apparel|           44|         50|   N|                Y|\n",
            "|R18638HIUF6XNR|          3|         Apparel|           22|         23|   N|                N|\n",
            "|  R1EHNRX9BMLK|          5|         Apparel|           19|         20|   N|                Y|\n",
            "+--------------+-----------+----------------+-------------+-----------+----+-----------------+\n",
            "only showing top 20 rows\n",
            "\n"
          ]
        }
      ]
    },
    {
      "cell_type": "code",
      "source": [
        "# Filtered for more than 20 total votes and more than 50% helpful\n",
        "vine_helpful_by_total_df = vine_filtered_votes_df.filter(\"(helpful_votes/total_votes)>=0.5\")\n",
        "vine_helpful_by_total_df.show()"
      ],
      "metadata": {
        "colab": {
          "base_uri": "https://localhost:8080/"
        },
        "id": "gVnHkBT0eB5H",
        "outputId": "6940967d-25ab-4bfd-9658-b21f8098b4e8"
      },
      "execution_count": 20,
      "outputs": [
        {
          "output_type": "stream",
          "name": "stdout",
          "text": [
            "+--------------+-----------+----------------+-------------+-----------+----+-----------------+\n",
            "|     review_id|star_rating|product_category|helpful_votes|total_votes|vine|verified_purchase|\n",
            "+--------------+-----------+----------------+-------------+-----------+----+-----------------+\n",
            "|R35PT06NWP7LDP|          5|         Apparel|           30|         32|   N|                N|\n",
            "| RQW4AFOG9MR4Z|          5|         Apparel|           51|         52|   N|                N|\n",
            "|R2SMUEBMGLAJQK|          5|         Apparel|           29|         36|   N|                Y|\n",
            "|R1XVIZZALU5P6J|          5|         Apparel|          148|        150|   N|                Y|\n",
            "|R11UFMG8M2488I|          4|         Apparel|           23|         26|   N|                N|\n",
            "|R2OSHKSPXU68W5|          5|         Apparel|          136|        147|   N|                N|\n",
            "|R3M02FSD3BLUPU|          5|         Apparel|           19|         21|   N|                N|\n",
            "|R1P0LEEJHH09L3|          5|         Apparel|           32|         32|   N|                Y|\n",
            "|R1V6UU1EHW3Q12|          5|         Apparel|           57|         62|   N|                Y|\n",
            "|R230W87COFSTCL|          5|         Apparel|           21|         21|   N|                Y|\n",
            "|R156HBTMUSEM88|          5|         Apparel|           48|         49|   N|                Y|\n",
            "|R2X1UHSW9KUBES|          5|         Apparel|           22|         22|   N|                Y|\n",
            "| RO32P11MHPMI3|          5|         Apparel|           24|         24|   N|                Y|\n",
            "|R1Y8ARYNAB7PC0|          5|         Apparel|           19|         20|   N|                N|\n",
            "|R1QSB09EOREALQ|          4|         Apparel|           29|         32|   N|                Y|\n",
            "|R1BQ8BDCIV9ONZ|          5|         Apparel|           44|         50|   N|                Y|\n",
            "|R18638HIUF6XNR|          3|         Apparel|           22|         23|   N|                N|\n",
            "|  R1EHNRX9BMLK|          5|         Apparel|           19|         20|   N|                Y|\n",
            "|R26L79OMEJLULL|          5|         Apparel|           32|         36|   N|                Y|\n",
            "| RQLV8G3M9ZOT2|          5|         Apparel|           22|         23|   N|                N|\n",
            "+--------------+-----------+----------------+-------------+-----------+----+-----------------+\n",
            "only showing top 20 rows\n",
            "\n"
          ]
        }
      ]
    },
    {
      "cell_type": "code",
      "source": [
        "# Filtered by reviews written as part of Vine program (paid)\n",
        "vine_paid_helpful_df = vine_helpful_by_total_df.filter(\"vine == 'Y'\")\n",
        "vine_paid_helpful_df.show()"
      ],
      "metadata": {
        "colab": {
          "base_uri": "https://localhost:8080/"
        },
        "id": "PGZZIWdBeIiQ",
        "outputId": "96cb8a3b-39e4-4080-8d5d-b1d03b919368"
      },
      "execution_count": 21,
      "outputs": [
        {
          "output_type": "stream",
          "name": "stdout",
          "text": [
            "+--------------+-----------+----------------+-------------+-----------+----+-----------------+\n",
            "|     review_id|star_rating|product_category|helpful_votes|total_votes|vine|verified_purchase|\n",
            "+--------------+-----------+----------------+-------------+-----------+----+-----------------+\n",
            "| R6U9701C3BGO6|          3|         Apparel|          139|        147|   Y|                N|\n",
            "|R1XK3ALB45D7N4|          5|         Apparel|           33|         34|   Y|                N|\n",
            "|R1IZCSTLX81D6C|          5|         Apparel|           31|         33|   Y|                N|\n",
            "|R2C8NC8EQLH4JF|          3|         Apparel|           45|         48|   Y|                N|\n",
            "|R1JJ1YOJMOML1P|          5|         Apparel|           18|         21|   Y|                N|\n",
            "|R3TKG664L9MTXJ|          4|         Apparel|          164|        175|   Y|                N|\n",
            "|R2E942L5EX73FP|          5|         Apparel|           29|         33|   Y|                N|\n",
            "|R3CGRT9HYB3LI7|          5|         Apparel|           20|         21|   Y|                N|\n",
            "|R3HIFO4D3ZIBZ7|          5|         Apparel|           25|         26|   Y|                N|\n",
            "|R2VUXJT91MXOQJ|          3|         Apparel|           72|         79|   Y|                N|\n",
            "|R1C8PGDXGYR30Z|          4|         Apparel|           29|         30|   Y|                N|\n",
            "| R8MS8X9EHHTPL|          3|         Apparel|           18|         20|   Y|                N|\n",
            "|R31GNOM0KSO811|          5|         Apparel|           33|         35|   Y|                N|\n",
            "|R30QE1QK86LPYL|          5|         Apparel|          240|        248|   Y|                N|\n",
            "|R22HZWFVEVORET|          4|         Apparel|           47|         50|   Y|                N|\n",
            "|R1FH9B0W7UFLK0|          2|         Apparel|           40|         45|   Y|                N|\n",
            "|R3JA6LR9QD9TZE|          4|         Apparel|           18|         20|   Y|                N|\n",
            "|R378OQDA4JN3IG|          4|         Apparel|           42|         44|   Y|                N|\n",
            "|R2U5MIYOYUTTUA|          3|         Apparel|           31|         34|   Y|                N|\n",
            "|R337AR463Y2FPD|          3|         Apparel|           22|         22|   Y|                N|\n",
            "+--------------+-----------+----------------+-------------+-----------+----+-----------------+\n",
            "only showing top 20 rows\n",
            "\n"
          ]
        }
      ]
    },
    {
      "cell_type": "code",
      "source": [
        "# Filtered by unpaid review (not Vine)\n",
        "vine_unpaid_helpful_df = vine_helpful_by_total_df.filter(\"vine == 'N'\")\n",
        "vine_unpaid_helpful_df.show()"
      ],
      "metadata": {
        "colab": {
          "base_uri": "https://localhost:8080/"
        },
        "id": "vS8uwFVne07u",
        "outputId": "7b7483bf-42c9-4c52-937c-2cda2a9ac2f1"
      },
      "execution_count": 22,
      "outputs": [
        {
          "output_type": "stream",
          "name": "stdout",
          "text": [
            "+--------------+-----------+----------------+-------------+-----------+----+-----------------+\n",
            "|     review_id|star_rating|product_category|helpful_votes|total_votes|vine|verified_purchase|\n",
            "+--------------+-----------+----------------+-------------+-----------+----+-----------------+\n",
            "|R35PT06NWP7LDP|          5|         Apparel|           30|         32|   N|                N|\n",
            "| RQW4AFOG9MR4Z|          5|         Apparel|           51|         52|   N|                N|\n",
            "|R2SMUEBMGLAJQK|          5|         Apparel|           29|         36|   N|                Y|\n",
            "|R1XVIZZALU5P6J|          5|         Apparel|          148|        150|   N|                Y|\n",
            "|R11UFMG8M2488I|          4|         Apparel|           23|         26|   N|                N|\n",
            "|R2OSHKSPXU68W5|          5|         Apparel|          136|        147|   N|                N|\n",
            "|R3M02FSD3BLUPU|          5|         Apparel|           19|         21|   N|                N|\n",
            "|R1P0LEEJHH09L3|          5|         Apparel|           32|         32|   N|                Y|\n",
            "|R1V6UU1EHW3Q12|          5|         Apparel|           57|         62|   N|                Y|\n",
            "|R230W87COFSTCL|          5|         Apparel|           21|         21|   N|                Y|\n",
            "|R156HBTMUSEM88|          5|         Apparel|           48|         49|   N|                Y|\n",
            "|R2X1UHSW9KUBES|          5|         Apparel|           22|         22|   N|                Y|\n",
            "| RO32P11MHPMI3|          5|         Apparel|           24|         24|   N|                Y|\n",
            "|R1Y8ARYNAB7PC0|          5|         Apparel|           19|         20|   N|                N|\n",
            "|R1QSB09EOREALQ|          4|         Apparel|           29|         32|   N|                Y|\n",
            "|R1BQ8BDCIV9ONZ|          5|         Apparel|           44|         50|   N|                Y|\n",
            "|R18638HIUF6XNR|          3|         Apparel|           22|         23|   N|                N|\n",
            "|  R1EHNRX9BMLK|          5|         Apparel|           19|         20|   N|                Y|\n",
            "|R26L79OMEJLULL|          5|         Apparel|           32|         36|   N|                Y|\n",
            "| RQLV8G3M9ZOT2|          5|         Apparel|           22|         23|   N|                N|\n",
            "+--------------+-----------+----------------+-------------+-----------+----+-----------------+\n",
            "only showing top 20 rows\n",
            "\n"
          ]
        }
      ]
    },
    {
      "cell_type": "code",
      "source": [
        "# Total of all reviews\n",
        "\n",
        "total_reviews_ct = vine_helpful_by_total_df.count()\n",
        "total_reviews_ct\n"
      ],
      "metadata": {
        "colab": {
          "base_uri": "https://localhost:8080/"
        },
        "id": "WOZHX7EbfAtn",
        "outputId": "f5d4db99-a139-42b3-987d-8a2f6e80593f"
      },
      "execution_count": 24,
      "outputs": [
        {
          "output_type": "execute_result",
          "data": {
            "text/plain": [
              "45421"
            ]
          },
          "metadata": {},
          "execution_count": 24
        }
      ]
    },
    {
      "cell_type": "code",
      "source": [
        "# Total Vine reviews\n",
        "total_paid_reviews_df = vine_helpful_by_total_df.filter(\"vine =='Y'\")\n",
        "total_paid_reviews_ct = total_paid_reviews_df.count()\n",
        "total_paid_reviews_ct"
      ],
      "metadata": {
        "colab": {
          "base_uri": "https://localhost:8080/"
        },
        "id": "TVLKA-p4fPK4",
        "outputId": "c5c72477-3a88-4919-a7f5-3d28f0cdce97"
      },
      "execution_count": 25,
      "outputs": [
        {
          "output_type": "execute_result",
          "data": {
            "text/plain": [
              "33"
            ]
          },
          "metadata": {},
          "execution_count": 25
        }
      ]
    },
    {
      "cell_type": "code",
      "source": [
        "# Total non-Vine reviews\n",
        "total_unpaid_reviews_df = vine_helpful_by_total_df.filter(\"vine =='N'\")\n",
        "total_unpaid_reviews_ct = total_unpaid_reviews_df.count()\n",
        "total_unpaid_reviews_ct"
      ],
      "metadata": {
        "colab": {
          "base_uri": "https://localhost:8080/"
        },
        "id": "L5QR2Udzfe9I",
        "outputId": "7b6acc92-21aa-4894-c476-e2987fd0f455"
      },
      "execution_count": 26,
      "outputs": [
        {
          "output_type": "execute_result",
          "data": {
            "text/plain": [
              "45388"
            ]
          },
          "metadata": {},
          "execution_count": 26
        }
      ]
    },
    {
      "cell_type": "code",
      "source": [
        "# Total five-star reviews\n",
        "total_five_star_reviews_df = vine_helpful_by_total_df.filter(\"star_rating == 5\")\n",
        "total_five_star_reviews_ct = total_five_star_reviews_df.count()\n",
        "total_five_star_reviews_ct"
      ],
      "metadata": {
        "colab": {
          "base_uri": "https://localhost:8080/"
        },
        "id": "t0YXwp6Rfvi9",
        "outputId": "19cc454c-40dc-4f07-e2f1-66522a5240e7"
      },
      "execution_count": 27,
      "outputs": [
        {
          "output_type": "execute_result",
          "data": {
            "text/plain": [
              "23748"
            ]
          },
          "metadata": {},
          "execution_count": 27
        }
      ]
    },
    {
      "cell_type": "code",
      "source": [
        "# Total five-star paid reviews\n",
        "five_star_paid_reviews_df = total_paid_reviews_df.filter(\"star_rating == 5\")\n",
        "five_star_paid_reviews_ct = five_star_paid_reviews_df.count()\n",
        "five_star_paid_reviews_ct"
      ],
      "metadata": {
        "colab": {
          "base_uri": "https://localhost:8080/"
        },
        "id": "MWe3CQSFvry7",
        "outputId": "513ac3ab-d22e-497b-8704-636fc7612a88"
      },
      "execution_count": 30,
      "outputs": [
        {
          "output_type": "execute_result",
          "data": {
            "text/plain": [
              "15"
            ]
          },
          "metadata": {},
          "execution_count": 30
        }
      ]
    },
    {
      "cell_type": "code",
      "source": [
        "# Total five-star unpaid reviews\n",
        "five_star_unpaid_reviews_df = total_unpaid_reviews_df.filter(\"star_rating < 5\")\n",
        "five_star_unpaid_reviews_ct = five_star_unpaid_reviews_df.count()\n",
        "five_star_unpaid_reviews_ct"
      ],
      "metadata": {
        "colab": {
          "base_uri": "https://localhost:8080/"
        },
        "id": "PDDRK5oKrc89",
        "outputId": "f6da7421-8dfb-46cd-8c82-6c7f63b53eb4"
      },
      "execution_count": 28,
      "outputs": [
        {
          "output_type": "execute_result",
          "data": {
            "text/plain": [
              "21655"
            ]
          },
          "metadata": {},
          "execution_count": 28
        }
      ]
    },
    {
      "cell_type": "code",
      "source": [
        "# Five-star paid reviews as percent of total paid reviews\n",
        "paid_five_star_per_total_paid = (five_star_paid_reviews_ct/total_paid_reviews_ct)*100\n",
        "round(paid_five_star_per_total_paid, 3)"
      ],
      "metadata": {
        "colab": {
          "base_uri": "https://localhost:8080/"
        },
        "id": "zGBOHmwavmnV",
        "outputId": "5b71a622-f457-45ea-b2d3-4ecb5f665f9a"
      },
      "execution_count": 31,
      "outputs": [
        {
          "output_type": "execute_result",
          "data": {
            "text/plain": [
              "45.455"
            ]
          },
          "metadata": {},
          "execution_count": 31
        }
      ]
    },
    {
      "cell_type": "code",
      "source": [
        "# Paid reviews as percent of total five-star reviews\n",
        "paid_five_star_per_five_star_total = (five_star_paid_reviews_ct/total_five_star_reviews_ct)*100\n",
        "round(paid_five_star_per_five_star_total, 3)"
      ],
      "metadata": {
        "colab": {
          "base_uri": "https://localhost:8080/"
        },
        "id": "NJjL2fW6v7KD",
        "outputId": "5d6d3b41-3701-4b2a-8618-ec15b516eef1"
      },
      "execution_count": 32,
      "outputs": [
        {
          "output_type": "execute_result",
          "data": {
            "text/plain": [
              "0.063"
            ]
          },
          "metadata": {},
          "execution_count": 32
        }
      ]
    },
    {
      "cell_type": "code",
      "source": [
        "# Five-star unpaid reviews as percent of total unpaid reviews\n",
        "unpaid_five_star_per_total_unpaid = (five_star_unpaid_reviews_ct/total_unpaid_reviews_ct)*100\n",
        "round(unpaid_five_star_per_total_unpaid, 3)"
      ],
      "metadata": {
        "colab": {
          "base_uri": "https://localhost:8080/"
        },
        "id": "cDmzz2OUv9rT",
        "outputId": "980471ff-b75e-4179-f037-3ab317f57a5d"
      },
      "execution_count": 33,
      "outputs": [
        {
          "output_type": "execute_result",
          "data": {
            "text/plain": [
              "47.711"
            ]
          },
          "metadata": {},
          "execution_count": 33
        }
      ]
    },
    {
      "cell_type": "code",
      "source": [
        "# Five-star unpaid reviews as percent of total five-star reviews\n",
        "unpaid_five_star_per_five_star_total = (five_star_unpaid_reviews_ct/total_five_star_reviews_ct)*100\n",
        "round(unpaid_five_star_per_five_star_total, 3)"
      ],
      "metadata": {
        "colab": {
          "base_uri": "https://localhost:8080/"
        },
        "id": "YURVmVcrv_oT",
        "outputId": "219ba968-b493-4b47-fbef-efd97f4c21f4"
      },
      "execution_count": 34,
      "outputs": [
        {
          "output_type": "execute_result",
          "data": {
            "text/plain": [
              "91.187"
            ]
          },
          "metadata": {},
          "execution_count": 34
        }
      ]
    }
  ]
}